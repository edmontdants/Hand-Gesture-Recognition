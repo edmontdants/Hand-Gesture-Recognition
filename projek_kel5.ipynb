{
 "cells": [
  {
   "cell_type": "code",
   "execution_count": 1,
   "metadata": {},
   "outputs": [],
   "source": [
    "from sklearn.neighbors import KNeighborsClassifier\n",
    "from sklearn.naive_bayes import GaussianNB\n",
    "from sklearn.linear_model import LogisticRegression\n",
    "from sklearn.svm import SVC\n",
    "from sklearn.tree import DecisionTreeClassifier\n",
    "from sklearn.ensemble import RandomForestClassifier\n",
    "from sklearn.neural_network import MLPClassifier\n",
    "from sklearn.preprocessing import LabelEncoder\n",
    "from sklearn.preprocessing import LabelBinarizer\n",
    "from sklearn.model_selection import train_test_split\n",
    "from sklearn.metrics import classification_report\n",
    "from sklearn.datasets import load_digits\n",
    "from sklearn import svm\n",
    "\n",
    "from PIL import Image\n",
    "from imutils import paths\n",
    "import numpy as np\n",
    "import argparse\n",
    "import os\n",
    "import pandas as pd"
   ]
  },
  {
   "cell_type": "code",
   "execution_count": 2,
   "metadata": {},
   "outputs": [],
   "source": [
    "def extract_color_stats(image):\n",
    "    (R,G,B)=image.split()\n",
    "    features = [np.mean(R),np.mean(G),np.mean(B),np.std(R),np.std(G),np.std(B)]\n",
    "    \n",
    "    return features"
   ]
  },
  {
   "cell_type": "code",
   "execution_count": 3,
   "metadata": {},
   "outputs": [],
   "source": [
    "models = {\n",
    "    \"knn\" : KNeighborsClassifier(n_neighbors=1),\n",
    "    \"naive_bayes\" : GaussianNB(),\n",
    "    \"logit\" : LogisticRegression(solver=\"lbfgs\", multi_class=\"auto\"),\n",
    "    \"svm\" : SVC(kernel=\"rbf\", gamma=\"auto\"),\n",
    "    \"decision_tree\" : DecisionTreeClassifier(),\n",
    "    \"random_forest\" : RandomForestClassifier(n_estimators=100),\n",
    "    \"mlp\" : MLPClassifier()\n",
    "}"
   ]
  },
  {
   "cell_type": "code",
   "execution_count": 4,
   "metadata": {},
   "outputs": [
    {
     "name": "stdout",
     "output_type": "stream",
     "text": [
      "[INFO] Extracting image features ...\n",
      "[100.48789173789174, 100.51524216524217, 96.92749287749288, 42.888386202488505, 43.518223855787575, 40.567656713288414]\n"
     ]
    }
   ],
   "source": [
    "print(\"[INFO] Extracting image features ...\")\n",
    "#baru = nama datasets\n",
    "imagePaths = paths.list_images(\"baru\")\n",
    "\n",
    "data = []\n",
    "labels = []\n",
    "\n",
    "for imagePath in imagePaths:\n",
    "    \n",
    "    image = Image.open(imagePath)\n",
    "    features = extract_color_stats(image)\n",
    "    data.append(features)\n",
    "    \n",
    "    label = imagePath.split(os.path.sep)[-2]\n",
    "    labels.append(label)\n",
    "\n",
    "print(features)"
   ]
  },
  {
   "cell_type": "code",
   "execution_count": 5,
   "metadata": {},
   "outputs": [
    {
     "name": "stdout",
     "output_type": "stream",
     "text": [
      "[0 0 0 0 0 0 0 0 0 0 0 0 0 0 0 0 0 0 0 0 0 0 0 0 0 0 0 0 0 0 0 0 0 0 0 0 0\n",
      " 0 0 0 0 0 0 0 0 0 0 0 0 0 1 1 1 1 1 1 1 1 1 1 1 1 1 1 1 1 1 1 1 1 1 1 1 1\n",
      " 1 1 1 1 1 1 1 1 1 1 1 1 1 1 1 1 1 1 1 1 1 1 1 1 1 1 2 2 2 2 2 2 2 2 2 2 2\n",
      " 2 2 2 2 2 2 2 2 2 2 2 2 2 2 2 2 2 2 2 2 2 2 2 2 2 2 2 2 2 2 2 2 2 2 2 2 2\n",
      " 2 2 3 3 3 3 3 3 3 3 3 3 3 3 3 3 3 3 3 3 3 3 3 3 3 3 3 3 3 3 3 3 3 3 3 3 3\n",
      " 3 3 3 3 3 3 3 3 3 3 3 3 3 3 3 4 4 4 4 4 4 4 4 4 4 4 4 4 4 4 4 4 4 4 4 4 4\n",
      " 4 4 4 4 4 4 4 4 4 4 4 4 4 4 4 4 4 4 4 4 4 4 4 4 4 4 4 4]\n"
     ]
    }
   ],
   "source": [
    "#encode the labels, converting them from strings to integers\n",
    "le = LabelEncoder()\n",
    "labels = le.fit_transform(labels)\n",
    "\n",
    "(trainX, testX, trainY, testY) = train_test_split(data, labels,test_size=0.25)\n",
    "print (labels)"
   ]
  },
  {
   "cell_type": "code",
   "execution_count": 49,
   "metadata": {},
   "outputs": [
    {
     "name": "stdout",
     "output_type": "stream",
     "text": [
      "[INFO] using 'knn'model\n",
      "[INFO] evaluating ...\n",
      "              precision    recall  f1-score   support\n",
      "\n",
      "           5       1.00      1.00      1.00        13\n",
      "           A       0.90      1.00      0.95         9\n",
      "           B       1.00      1.00      1.00        14\n",
      "           C       0.93      0.93      0.93        14\n",
      "       point       1.00      0.92      0.96        13\n",
      "\n",
      "    accuracy                           0.97        63\n",
      "   macro avg       0.97      0.97      0.97        63\n",
      "weighted avg       0.97      0.97      0.97        63\n",
      "\n"
     ]
    }
   ],
   "source": [
    "print(\"[INFO] using '{}'model\".format('knn'))\n",
    "model = models['knn']\n",
    "#training\n",
    "model.fit(trainX,trainY)\n",
    "#X input Y outout\n",
    "#testing\n",
    "print(\"[INFO] evaluating ...\")\n",
    "predictions = model.predict(testX)\n",
    "print(classification_report(testY, predictions,target_names=le.classes_))"
   ]
  },
  {
   "cell_type": "code",
   "execution_count": 52,
   "metadata": {},
   "outputs": [],
   "source": [
    "import cv2\n",
    "import matplotlib.pyplot as plt\n",
    "image1 = '5-1.jpeg'"
   ]
  },
  {
   "cell_type": "code",
   "execution_count": 53,
   "metadata": {
    "scrolled": true
   },
   "outputs": [
    {
     "data": {
      "image/png": "[encoded data removed]",
      "text/plain": [
       "<Figure size 432x288 with 1 Axes>"
      ]
     },
     "metadata": {
      "needs_background": "light"
     },
     "output_type": "display_data"
    }
   ],
   "source": [
    "img_array =cv2.imread(image1)\n",
    "plt.imshow(img_array)\n",
    "plt.show()"
   ]
  },
  {
   "cell_type": "code",
   "execution_count": 54,
   "metadata": {},
   "outputs": [
    {
     "data": {
      "image/png": "[encoded data removed]",
      "text/plain": [
       "<Figure size 432x288 with 1 Axes>"
      ]
     },
     "metadata": {
      "needs_background": "light"
     },
     "output_type": "display_data"
    },
    {
     "name": "stdout",
     "output_type": "stream",
     "text": [
      "[128.8901515151515, 107.05032467532467, 91.12337662337663, 57.322465908337726, 48.97481639156217, 42.1976312278202]\n"
     ]
    }
   ],
   "source": [
    "def extract_color_stats(image):\n",
    "    (R,G,B)=image.split()\n",
    "    features = [np.mean(R),np.mean(G),np.mean(B),np.std(R),np.std(G),np.std(B)]\n",
    "    \n",
    "    return features\n",
    "\n",
    "image_testing  = Image.open('5-1.jpeg')\n",
    "features = extract_color_stats(image_testing)\n",
    "\n",
    "#image_testing = np.array(features)\n",
    "#image_testing.shape\n",
    "plt.imshow(image_testing)\n",
    "plt.show()\n",
    "print(features)"
   ]
  },
  {
   "cell_type": "code",
   "execution_count": 55,
   "metadata": {},
   "outputs": [
    {
     "name": "stdout",
     "output_type": "stream",
     "text": [
      "[[128.89015152 107.05032468  91.12337662  57.32246591  48.97481639\n",
      "   42.19763123]]\n"
     ]
    }
   ],
   "source": [
    "image_testing = np.expand_dims(features,0)\n",
    "print(image_testing)"
   ]
  },
  {
   "cell_type": "code",
   "execution_count": 56,
   "metadata": {},
   "outputs": [
    {
     "name": "stdout",
     "output_type": "stream",
     "text": [
      "[0]\n",
      "prediction : 5 (Five)\n"
     ]
    }
   ],
   "source": [
    "output = model.predict(image_testing)\n",
    "print(output)\n",
    "\n",
    "if (output==0):\n",
    "    print(\"prediction : 5 (Five)\")\n",
    "if (output==1):\n",
    "    print(\"prediction : A\")\n",
    "if (output==2):\n",
    "    print(\"prediction : B\")\n",
    "if (output==3):\n",
    "    print(\"prediction : C\")\n",
    "if (output==4):\n",
    "    print(\"prediction : point\")"
   ]
  },
  {
   "cell_type": "code",
   "execution_count": null,
   "metadata": {},
   "outputs": [],
   "source": []
  }
 ],
 "metadata": {
  "kernelspec": {
   "display_name": "Python 3",
   "language": "python",
   "name": "python3"
  },
  "language_info": {
   "codemirror_mode": {
    "name": "ipython",
    "version": 3
   },
   "file_extension": ".py",
   "mimetype": "text/x-python",
   "name": "python",
   "nbconvert_exporter": "python",
   "pygments_lexer": "ipython3",
   "version": "3.7.3"
  }
 },
 "nbformat": 4,
 "nbformat_minor": 4
}
